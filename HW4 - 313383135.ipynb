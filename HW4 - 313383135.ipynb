{
 "cells": [
  {
   "cell_type": "markdown",
   "id": "092ec0ba",
   "metadata": {},
   "source": [
    "## Nave Cohen - 313383135"
   ]
  },
  {
   "cell_type": "markdown",
   "id": "6753247e",
   "metadata": {},
   "source": [
    "### HW4"
   ]
  },
  {
   "cell_type": "code",
   "execution_count": 28,
   "id": "284415d1",
   "metadata": {},
   "outputs": [],
   "source": [
    "# ! pip install requests\n",
    "# ! pip install googlemaps\n",
    "# ! pip install Counter"
   ]
  },
  {
   "cell_type": "code",
   "execution_count": 29,
   "id": "8ccefd6c",
   "metadata": {},
   "outputs": [],
   "source": [
    "import requests as req\n",
    "import json\n",
    "import googlemaps\n",
    "from collections import Counter"
   ]
  },
  {
   "cell_type": "markdown",
   "id": "110be6c9",
   "metadata": {},
   "source": [
    "### A.\tAttached is a text file that includes a list of destinations (cities in the world). You must write a Python code that goes over the destinations in the file and for each destination contact the Googleapis distancematrix service and retrieve:\n",
    "•\tThe distance between the city of Jerusalem and the destination in kilometers\n",
    "•\tThe time it takes to reach the destination in minutes.\n",
    "In addition, you must contact the Google geocode service and retrieve it\n",
    "•\tThe longitude and latitude of the target\n",
    "\n",
    "The information should be stored in a dictionary, where the keys are the destinations names and the values are tuples - each containing information in the following order:\n",
    "1.\tDistance of the destination from Jerusalem in kilometers.\n",
    "2.\tArrival time from Jerusalem to the destination in hours and minutes.\n",
    "3.\tLongitude of the destination\n",
    "4.\tLatitude of the destination\n"
   ]
  },
  {
   "cell_type": "code",
   "execution_count": 30,
   "id": "830df6bf",
   "metadata": {},
   "outputs": [],
   "source": [
    "API_key = 'AIzaS###############NzZmSuLDxfZSEhEyBzo'\n",
    "origins = \"Jerusalem\"\n",
    "data = open(\"dests.txt\", 'r')\n",
    "destinations = []\n",
    "for destination in data:\n",
    "    destination = destination.rstrip()\n",
    "    destinations.append(destination)\n",
    "address = destinations"
   ]
  },
  {
   "cell_type": "code",
   "execution_count": 31,
   "id": "5fe3af02",
   "metadata": {},
   "outputs": [],
   "source": [
    "url_distance = \"https://maps.googleapis.com/maps/api/distancematrix/json?destinations=%s&origins=%s&key=%s\" % \\\n",
    "               (destinations, origins, API_key)\n",
    "url_coordinates = \"https://maps.googleapis.com/maps/api/geocode/json?address=%s&key=%s\" % \\\n",
    "                  (address, API_key)\n",
    "gmaps = googlemaps.Client(key=API_key)\n",
    "distance = gmaps.distance_matrix(origins, destinations)\n",
    "coordinates = req.get(url_coordinates)\n",
    "coordinates = coordinates.content.decode('utf-8')\n",
    "coordinates = json.loads(coordinates)"
   ]
  },
  {
   "cell_type": "code",
   "execution_count": 32,
   "id": "bace03d3",
   "metadata": {},
   "outputs": [
    {
     "name": "stdout",
     "output_type": "stream",
     "text": [
      "{'Istanbul': ('1,809 km', '20 hours 42 mins', 28.9783589, 41.0082376), 'Amsterdam': ('4,528 km', '2 days 0 hours', 4.9041389, 52.3675734), 'Valletta': ('3,783 km', '2 days 2 hours', 14.5145528, 35.8989085), 'Basel': ('4,091 km', '1 day 20 hours', 7.5885761, 47.5595986), 'Doha': ('2,105 km', '21 hours 56 mins', 51.53103979999999, 25.2854473)}\n"
     ]
    }
   ],
   "source": [
    "Istanbul = (distance['rows'][0]['elements'][0]['distance']['text'], distance['rows'][0]['elements'][0]['duration']['text'], coordinates['results'][1]['geometry']['location']['lng'], coordinates['results'][1]['geometry']['location']['lat'])\n",
    "Amsterdam = (distance['rows'][0]['elements'][1]['distance']['text'], distance['rows'][0]['elements'][1]['duration']['text'], coordinates['results'][0]['geometry']['location']['lng'], coordinates['results'][0]['geometry']['location']['lat'])\n",
    "Valletta = (distance['rows'][0]['elements'][2]['distance']['text'], distance['rows'][0]['elements'][2]['duration']['text'], coordinates['results'][3]['geometry']['location']['lng'], coordinates['results'][3]['geometry']['location']['lat'])\n",
    "Basel = (distance['rows'][0]['elements'][3]['distance']['text'], distance['rows'][0]['elements'][3]['duration']['text'], coordinates['results'][4]['geometry']['location']['lng'], coordinates['results'][4]['geometry']['location']['lat'])\n",
    "Doha = (distance['rows'][0]['elements'][4]['distance']['text'], distance['rows'][0]['elements'][4]['duration']['text'], coordinates['results'][2]['geometry']['location']['lng'], coordinates['results'][2]['geometry']['location']['lat'])\n",
    "values = [Istanbul, Amsterdam, Valletta, Basel, Doha]\n",
    "\n",
    "Jerusalem_distance = dict(zip(destinations, values))\n",
    "print(Jerusalem_distance)"
   ]
  },
  {
   "cell_type": "markdown",
   "id": "76d95c6f",
   "metadata": {},
   "source": [
    "### Print the information on the screen clearly for each destination, feel free to do so as you wish, as long as it is clear."
   ]
  },
  {
   "cell_type": "code",
   "execution_count": 33,
   "id": "18037d6f",
   "metadata": {},
   "outputs": [],
   "source": [
    "def destination_dis(destination=None):\n",
    "    for destination in address:\n",
    "         print( f\"Jerusalem - {destination}:\\n\"\n",
    "              f\"The distance from Jerusalem to {destination} is: {Jerusalem_distance[destination][0]}\\n\"\n",
    "              f\"The arrival time from Jerusalem to {destination} is: {Jerusalem_distance[destination][1]}\\n\"\n",
    "              f\"The coordinates of {destination} are: Longitude - {Jerusalem_distance[destination][2]}, Latitude - {Jerusalem_distance[destination][3]}\\n\")"
   ]
  },
  {
   "cell_type": "code",
   "execution_count": 34,
   "id": "b42a60a2",
   "metadata": {},
   "outputs": [
    {
     "name": "stdout",
     "output_type": "stream",
     "text": [
      "Jerusalem - Istanbul:\n",
      "The distance from Jerusalem to Istanbul is: 1,809 km\n",
      "The arrival time from Jerusalem to Istanbul is: 20 hours 42 mins\n",
      "The coordinates of Istanbul are: Longitude - 28.9783589, Latitude - 41.0082376\n",
      "\n",
      "Jerusalem - Amsterdam:\n",
      "The distance from Jerusalem to Amsterdam is: 4,528 km\n",
      "The arrival time from Jerusalem to Amsterdam is: 2 days 0 hours\n",
      "The coordinates of Amsterdam are: Longitude - 4.9041389, Latitude - 52.3675734\n",
      "\n",
      "Jerusalem - Valletta:\n",
      "The distance from Jerusalem to Valletta is: 3,783 km\n",
      "The arrival time from Jerusalem to Valletta is: 2 days 2 hours\n",
      "The coordinates of Valletta are: Longitude - 14.5145528, Latitude - 35.8989085\n",
      "\n",
      "Jerusalem - Basel:\n",
      "The distance from Jerusalem to Basel is: 4,091 km\n",
      "The arrival time from Jerusalem to Basel is: 1 day 20 hours\n",
      "The coordinates of Basel are: Longitude - 7.5885761, Latitude - 47.5595986\n",
      "\n",
      "Jerusalem - Doha:\n",
      "The distance from Jerusalem to Doha is: 2,105 km\n",
      "The arrival time from Jerusalem to Doha is: 21 hours 56 mins\n",
      "The coordinates of Doha are: Longitude - 51.53103979999999, Latitude - 25.2854473\n",
      "\n"
     ]
    }
   ],
   "source": [
    "destination_dis(address)"
   ]
  },
  {
   "cell_type": "markdown",
   "id": "663031c8",
   "metadata": {},
   "source": [
    "### For the dictionary you created above: Find the 3 cities furthest from Jerusalem."
   ]
  },
  {
   "cell_type": "code",
   "execution_count": 37,
   "id": "0101bcb4",
   "metadata": {},
   "outputs": [],
   "source": [
    "def furthest_cities(values =None):\n",
    "    cities = []\n",
    "    for city in values:\n",
    "        cities.append(int(\"\".join([str(s) for s in values[city][0] if s.isdigit()])))\n",
    "    furthest_cities = dict(zip(address, cities))\n",
    "    furthest_cities = Counter(furthest_cities)\n",
    "    top3 = furthest_cities.most_common(3)\n",
    "    return f\"The most furthest cities from Jerusalem are:\\n\" \\\n",
    "           f\"1) {top3[0][0]}, with {top3[0][1]} km distance.\\n\" \\\n",
    "           f\"2) {top3[1][0]}, with {top3[1][1]} km distance.\\n\" \\\n",
    "           f\"3) {top3[2][0]}, with {top3[2][1]} km distance.\""
   ]
  },
  {
   "cell_type": "code",
   "execution_count": 38,
   "id": "5d8de06d",
   "metadata": {},
   "outputs": [
    {
     "name": "stdout",
     "output_type": "stream",
     "text": [
      "The most furthest cities from Jerusalem are:\n",
      "1) Amsterdam, with 4528 km distance.\n",
      "2) Basel, with 4091 km distance.\n",
      "3) Valletta, with 3783 km distance.\n"
     ]
    }
   ],
   "source": [
    "print(furthest_cities(Jerusalem_distance))"
   ]
  }
 ],
 "metadata": {
  "kernelspec": {
   "display_name": "Python 3 (ipykernel)",
   "language": "python",
   "name": "python3"
  },
  "language_info": {
   "codemirror_mode": {
    "name": "ipython",
    "version": 3
   },
   "file_extension": ".py",
   "mimetype": "text/x-python",
   "name": "python",
   "nbconvert_exporter": "python",
   "pygments_lexer": "ipython3",
   "version": "3.7.11"
  }
 },
 "nbformat": 4,
 "nbformat_minor": 5
}
